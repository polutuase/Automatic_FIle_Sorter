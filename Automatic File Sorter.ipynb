{
 "cells": [
  {
   "cell_type": "code",
   "execution_count": 26,
   "id": "8c2cf031",
   "metadata": {},
   "outputs": [],
   "source": [
    "import os, shutil"
   ]
  },
  {
   "cell_type": "code",
   "execution_count": 27,
   "id": "41497a51",
   "metadata": {},
   "outputs": [],
   "source": [
    "path = r\"C:/Users\\DELL/Desktop/Solevadaa/\""
   ]
  },
  {
   "cell_type": "code",
   "execution_count": 28,
   "id": "8d71ae5d",
   "metadata": {},
   "outputs": [
    {
     "data": {
      "text/plain": [
       "['!5_15_2023 PM - Santa Clara County SEIMENS KP MV_LA second measurement.xlsx',\n",
       " '08-29-2023 fayett ASBUILT.xlsx',\n",
       " '12-3-20 PM - Santa Clara County SEIMENS KP MV_LA second measurement.xlsx',\n",
       " '5_15_2023 PM - Santa Clara County SEIMENS KP MV_LA second measurement.xlsx',\n",
       " '5_23_2023 fayett ASBUILT.xlsx',\n",
       " 'Capture.PNG',\n",
       " 'Data set  for excel trianing (Digitale.xlsx',\n",
       " 'doc files',\n",
       " 'docx files',\n",
       " 'Fayetteville Savings Summary.xlsx',\n",
       " 'Fayetteville%20EMS%20Data%2011-16-2023((Autorecovered-310711040398126265))1.xlsx',\n",
       " 'Ground Mount Inverter Data (1).xlsx',\n",
       " 'LIGHTING.xlsx',\n",
       " 'Little Elm Phase 3 Year 1_LA.docx',\n",
       " 'Manchester_HA_Report_Y5[1].doc',\n",
       " 'New Fayetteville Savings Summary.xlsm',\n",
       " 'Orange Ulster BOCES PA Report 8.docx',\n",
       " 'S.docx',\n",
       " 'txt files',\n",
       " 'Updated Little Elm Inspection Report.docx',\n",
       " 'WSMR PV Year 10 Report v2 (Repaired).docx',\n",
       " 'WSMR PV Year 11 Report v2 (Repaired).docx',\n",
       " 'xlsm files',\n",
       " 'xlsx files']"
      ]
     },
     "execution_count": 28,
     "metadata": {},
     "output_type": "execute_result"
    }
   ],
   "source": [
    "os.listdir(path)"
   ]
  },
  {
   "cell_type": "code",
   "execution_count": 30,
   "id": "f7014e04",
   "metadata": {},
   "outputs": [
    {
     "data": {
      "text/plain": [
       "True"
      ]
     },
     "execution_count": 30,
     "metadata": {},
     "output_type": "execute_result"
    }
   ],
   "source": [
    "os.path.exists(path + 'txt files')"
   ]
  },
  {
   "cell_type": "code",
   "execution_count": 31,
   "id": "f2ae6b78",
   "metadata": {},
   "outputs": [],
   "source": [
    "folder_names = ['txt files', 'docx files', 'xlsm files', 'xlsx files', 'doc files']\n",
    "\n",
    "for loop in range(0,5):\n",
    "    if not os.path.exists(path + folder_names[loop]):\n",
    "        print(path + folder_names[loop])\n",
    "        os.makedirs(path + folder_names[loop])"
   ]
  },
  {
   "cell_type": "code",
   "execution_count": 34,
   "id": "dc5194da",
   "metadata": {},
   "outputs": [
    {
     "data": {
      "text/plain": [
       "['!5_15_2023 PM - Santa Clara County SEIMENS KP MV_LA second measurement.xlsx',\n",
       " '08-29-2023 fayett ASBUILT.xlsx',\n",
       " '12-3-20 PM - Santa Clara County SEIMENS KP MV_LA second measurement.xlsx',\n",
       " '5_15_2023 PM - Santa Clara County SEIMENS KP MV_LA second measurement.xlsx',\n",
       " '5_23_2023 fayett ASBUILT.xlsx',\n",
       " 'Capture.PNG',\n",
       " 'Data set  for excel trianing (Digitale.xlsx',\n",
       " 'doc files',\n",
       " 'docx files',\n",
       " 'Fayetteville Savings Summary.xlsx',\n",
       " 'Fayetteville%20EMS%20Data%2011-16-2023((Autorecovered-310711040398126265))1.xlsx',\n",
       " 'Ground Mount Inverter Data (1).xlsx',\n",
       " 'LIGHTING.xlsx',\n",
       " 'Little Elm Phase 3 Year 1_LA.docx',\n",
       " 'Manchester_HA_Report_Y5[1].doc',\n",
       " 'New Fayetteville Savings Summary.xlsm',\n",
       " 'Orange Ulster BOCES PA Report 8.docx',\n",
       " 'S.docx',\n",
       " 'txt files',\n",
       " 'Updated Little Elm Inspection Report.docx',\n",
       " 'WSMR PV Year 10 Report v2 (Repaired).docx',\n",
       " 'WSMR PV Year 11 Report v2 (Repaired).docx',\n",
       " 'xlsm files',\n",
       " 'xlsx files']"
      ]
     },
     "execution_count": 34,
     "metadata": {},
     "output_type": "execute_result"
    }
   ],
   "source": [
    "file_name = os.listdir(path)\n",
    "file_name"
   ]
  },
  {
   "cell_type": "code",
   "execution_count": 36,
   "id": "6abe59bf",
   "metadata": {
    "scrolled": true
   },
   "outputs": [],
   "source": [
    "for file in file_name:\n",
    "    if \".txt\" in file and not os.path.exists(path + \"/txt files/\" + file):\n",
    "        shutil.move(path + \"/\" + file, path + \"/txt files/\" + file)\n",
    "    elif \".docx\" in file and not os.path.exists(path + \"/docx files/\" + file):\n",
    "        shutil.move(path + \"/\" + file, path + \"/docx files/\" + file)\n",
    "    elif \".doc\" in file and not os.path.exists(path + \"/doc files/\" + file):\n",
    "        shutil.move(path + \"/\" + file, path + \"/doc files/\" + file)\n",
    "    elif \".xlsm\" in file and not os.path.exists(path + \"/xlsm files/\" + file):\n",
    "        shutil.move(path + \"/\" + file, path + \"/xlsm files/\" + file)\n",
    "    elif \".xlsx\" in file and not os.path.exists(path + \"/xlsx files/\" + file):\n",
    "        shutil.move(path + \"/\" + file, path + \"/xlsx files/\" + file)"
   ]
  },
  {
   "cell_type": "code",
   "execution_count": null,
   "id": "d31de5a3",
   "metadata": {},
   "outputs": [],
   "source": []
  },
  {
   "cell_type": "code",
   "execution_count": null,
   "id": "82030caf",
   "metadata": {},
   "outputs": [],
   "source": []
  }
 ],
 "metadata": {
  "kernelspec": {
   "display_name": "Python 3 (ipykernel)",
   "language": "python",
   "name": "python3"
  },
  "language_info": {
   "codemirror_mode": {
    "name": "ipython",
    "version": 3
   },
   "file_extension": ".py",
   "mimetype": "text/x-python",
   "name": "python",
   "nbconvert_exporter": "python",
   "pygments_lexer": "ipython3",
   "version": "3.10.9"
  }
 },
 "nbformat": 4,
 "nbformat_minor": 5
}
